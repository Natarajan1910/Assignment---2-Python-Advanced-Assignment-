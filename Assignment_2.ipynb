{
 "cells": [
  {
   "cell_type": "code",
   "execution_count": null,
   "id": "600b4e74",
   "metadata": {},
   "outputs": [],
   "source": [
    "Q1. What is the relationship between classes and modules?\n",
    "\n",
    "Ans:\n",
    "    \n",
    "Modules are files present inside a package, whereas a class is used to encapsulate data and functions together inside the same unit\n"
   ]
  },
  {
   "cell_type": "code",
   "execution_count": null,
   "id": "c68da6ab",
   "metadata": {},
   "outputs": [],
   "source": [
    "Q2. How do you make instances and classes?\n",
    "\n",
    "To create instances of a class, you call the class using class name and pass in whatever arguments its __init__ method accepts.\n"
   ]
  },
  {
   "cell_type": "code",
   "execution_count": null,
   "id": "9624a3e7",
   "metadata": {},
   "outputs": [],
   "source": [
    "Q3. Where and how should be class attributes created?\n",
    "\n",
    "Ans : \n",
    "    \n",
    "Class attributes belong to the class itself they will be shared by all the instances. \n",
    "Such attributes are defined in the class body parts usually at the top\n"
   ]
  },
  {
   "cell_type": "code",
   "execution_count": null,
   "id": "4064136e",
   "metadata": {},
   "outputs": [],
   "source": [
    "Q4. Where and how are instance attributes created?\n",
    "\n",
    "Ans :\n",
    "    \n",
    "Instance attributes are attributes or properties attached to an instance of a class. Instance attributes are defined in the constructor.\n",
    "Defined inside a constructor using the 'self' parameter.\n"
   ]
  },
  {
   "cell_type": "code",
   "execution_count": null,
   "id": "7bd2a0bf",
   "metadata": {},
   "outputs": [],
   "source": [
    "Q5. What does the term \"self\" in a Python class mean?\n",
    "\n",
    "Ans : \n",
    "    \n",
    "Self represents the instance of the class. By using the “self” keyword we can access the attributes and methods of the class in python. \n",
    "It binds the attributes with the given arguments\n"
   ]
  },
  {
   "cell_type": "code",
   "execution_count": null,
   "id": "abe4529d",
   "metadata": {},
   "outputs": [],
   "source": [
    "Q6. How does a Python class handle operator overloading?\n",
    "\n",
    "Ans:\n",
    "    \n",
    "To perform operator overloading, Python provides some special function that is automatically created when it is associated with that particular operator. For example, when we use + operator, the magic method __add__ is automatically invoked in which the operation for + operator is defined.\n"
   ]
  },
  {
   "cell_type": "code",
   "execution_count": null,
   "id": "dccb183b",
   "metadata": {},
   "outputs": [],
   "source": [
    "Q7. When do you consider allowing operator overloading of your classes?\n",
    "\n",
    "Ans : \n",
    "    \n",
    "If we have two objects which are a physical representation of a class (user-defined data type) and we have to add two objects with binary '+' operator it throws an error, because compiler don't know how to add two objects. \n",
    "So we define a method for an operator and that process is called operator overloading\n"
   ]
  },
  {
   "cell_type": "code",
   "execution_count": null,
   "id": "cd761c99",
   "metadata": {},
   "outputs": [],
   "source": [
    "Q8. What is the most popular form of operator overloading?\n",
    "\n",
    "Ans : \n",
    "    \n",
    "Operator Overloading means giving extended meaning beyond their predefined operational meaning. For example operator + is used to add two integers as well as join two strings and merge two lists. \n",
    "It is achievable because ‘+’ operator is overloaded by int class and str class.\n"
   ]
  },
  {
   "cell_type": "code",
   "execution_count": null,
   "id": "9e8aed69",
   "metadata": {},
   "outputs": [],
   "source": [
    "Q9. What are the two most important concepts to grasp in order to comprehend Python OOP code?\n",
    "\n",
    "Ans:\n",
    "    \n",
    "Object-oriented programming has four basic concepts: encapsulation, abstraction, inheritance, and polymorphism"
   ]
  }
 ],
 "metadata": {
  "kernelspec": {
   "display_name": "Python 3",
   "language": "python",
   "name": "python3"
  },
  "language_info": {
   "codemirror_mode": {
    "name": "ipython",
    "version": 3
   },
   "file_extension": ".py",
   "mimetype": "text/x-python",
   "name": "python",
   "nbconvert_exporter": "python",
   "pygments_lexer": "ipython3",
   "version": "3.8.8"
  }
 },
 "nbformat": 4,
 "nbformat_minor": 5
}
